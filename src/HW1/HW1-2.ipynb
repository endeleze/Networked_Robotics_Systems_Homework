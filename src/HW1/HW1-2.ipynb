{
 "cells": [
  {
   "cell_type": "code",
   "execution_count": 4,
   "id": "9906cbab",
   "metadata": {},
   "outputs": [],
   "source": [
    "class Astar():\n",
    "    def __init__(self,maze_list,Heuristic):\n",
    "        self.maze_list=maze_list\n",
    "        self.Heuristic=Heuristic\n",
    "\n",
    "    def find_path(self, end_node,f):\n",
    "        el = end_node\n",
    "        path = []\n",
    "        while (el != np.inf):\n",
    "            path.append(el)\n",
    "            el = f[int(el)]\n",
    "        return path\n",
    "\n",
    "    def create_graph(self,world_mat):\n",
    "        N = world_mat.shape[0]\n",
    "        graph = []\n",
    "        for i in range(N):\n",
    "            for j in range(N):\n",
    "                neigh = []\n",
    "                if (i != N - 1):\n",
    "                    if (world_mat[i + 1, j] == 0):\n",
    "                        neigh.append(N * (i + 1) + j)\n",
    "                if (i != 0):\n",
    "                    if (world_mat[i - 1, j] == 0):\n",
    "                        neigh.append(N * (i - 1) + j)\n",
    "                if (j != N - 1):\n",
    "                    if (world_mat[i, j + 1] == 0):\n",
    "                        neigh.append(N * i + j + 1)\n",
    "                if (j != 0):\n",
    "                    if (world_mat[i, j - 1] == 0):\n",
    "                        neigh.append(N * i + j - 1)\n",
    "\n",
    "                graph.append(neigh)\n",
    "\n",
    "        cost = np.ones([N * N, N * N]) * np.inf\n",
    "\n",
    "        for i in range(N * N):\n",
    "            for j in graph[i]:\n",
    "                cost[i, j] = 1\n",
    "\n",
    "        return graph, cost\n",
    "\n",
    "    def display_result(self,world_mat, path):\n",
    "        N = world_mat.shape[0]\n",
    "        display_mat = world_mat.copy()\n",
    "        for el in path:\n",
    "            display_mat[convert_to_matrixindex(el, N)] = 5\n",
    "        plt.matshow(display_mat, cmap='Greys')\n",
    "\n",
    "    def forward(self):\n",
    "        for heuristic in self.Heuristic.keys():\n",
    "            func = self.Heuristic[heuristic]['funcs']\n",
    "            equa = self.Heuristic[heuristic]['equa']\n",
    "            print(\"-------------------------------------------\")\n",
    "            print(\"By using Astar method with {} :{}:\".format(heuristic,equa))\n",
    "            print(\"-------------------------------------------\")\n",
    "            for i in range(3):\n",
    "                N = self.maze_list[i].shape[0]\n",
    "                graph, cost = self.create_graph(self.maze_list[i])\n",
    "                OPEN = []\n",
    "                UPPER = np.inf\n",
    "                d = np.ones([N * N]) * np.inf\n",
    "                f = np.ones([N * N]) * np.inf\n",
    "                CLOSE = []\n",
    "                v = np.zeros([N * N])\n",
    "                h = func(np.zeros([N * N]),N)\n",
    "                V = []\n",
    "                d[0] = 0\n",
    "                w = 0\n",
    "                OPEN.append(0)\n",
    "                while OPEN != []:\n",
    "                    w = w + 1\n",
    "                    a = OPEN[0]\n",
    "                    CLOSE.append(a)\n",
    "                    OPEN.remove(a)\n",
    "                    for ch in graph[a]:\n",
    "                        if (ch not in CLOSE) and (cost[a, ch] + d[a] < d[ch]):\n",
    "                            d[ch] = cost[a, ch] + d[a]\n",
    "                            f[ch] = a\n",
    "                            v[ch] = d[ch] + h[ch]\n",
    "                            if ch == N * N - 1:\n",
    "                                UPPER = d[ch]\n",
    "                                break\n",
    "                            if ch in OPEN:\n",
    "                                t = OPEN.index(ch)\n",
    "                                V.pop(t)\n",
    "                                OPEN.remove(ch)\n",
    "                            bisect.insort_left(V, v[ch])\n",
    "                            OPEN.insert(V.index(v[ch]), ch)\n",
    "                    if V != []:\n",
    "                        V.pop(0)\n",
    "                    if ch == N * N - 1:\n",
    "                        break\n",
    "                print(\"For maze\", i, \":\")\n",
    "                print(\"The length of shortest path is:\")\n",
    "                print(UPPER)\n",
    "                print(\"Nodes are tested:\")\n",
    "                print(w)\n",
    "                pa = self.find_path(N * N - 1,f)\n",
    "                self.display_result(self.maze_list[i], pa)\n",
    "                plt.show()"
   ]
  },
  {
   "cell_type": "code",
   "execution_count": 5,
   "id": "f392fb44",
   "metadata": {},
   "outputs": [],
   "source": [
    "def convert_to_matrixindex(a, N):\n",
    "    i = int(a / N)\n",
    "    j = int(a % N)\n",
    "    return i, j\n",
    "\n",
    "def No_heuristic(h, n):\n",
    "    return h\n",
    "\n",
    "def Manhattan_Distance(h, n):\n",
    "    for i in range(n * n):\n",
    "        x, y = convert_to_matrixindex(i, n)\n",
    "        h[i] = 2 * n - 2 - x - y\n",
    "    return h\n",
    "\n",
    "def Euclidean_Distance(h, n):\n",
    "    for i in range(n * n):\n",
    "        x, y = convert_to_matrixindex(i, n)\n",
    "        h[i] = 2 * n - 2 - x - y\n",
    "        h[i] = np.sqrt((n-1-x)**2+(n-1-y)**2)\n",
    "    return h"
   ]
  },
  {
   "cell_type": "code",
   "execution_count": 6,
   "id": "81c37006",
   "metadata": {},
   "outputs": [
    {
     "name": "stdout",
     "output_type": "stream",
     "text": [
      "-------------------------------------------\n",
      "By using Astar method with None :h(i,j)=0:\n",
      "-------------------------------------------\n",
      "For maze 0 :\n",
      "The length of shortest path is:\n",
      "130.0\n",
      "Nodes are tested:\n",
      "2171\n"
     ]
    },
    {
     "data": {
      "image/png": "[encoded data removed]",
      "text/plain": [
       "<Figure size 288x288 with 1 Axes>"
      ]
     },
     "metadata": {
      "needs_background": "light"
     },
     "output_type": "display_data"
    },
    {
     "name": "stdout",
     "output_type": "stream",
     "text": [
      "For maze 1 :\n",
      "The length of shortest path is:\n",
      "98.0\n",
      "Nodes are tested:\n",
      "2008\n"
     ]
    },
    {
     "data": {
      "image/png": "[encoded data removed]",
      "text/plain": [
       "<Figure size 288x288 with 1 Axes>"
      ]
     },
     "metadata": {
      "needs_background": "light"
     },
     "output_type": "display_data"
    },
    {
     "name": "stdout",
     "output_type": "stream",
     "text": [
      "For maze 2 :\n",
      "The length of shortest path is:\n",
      "140.0\n",
      "Nodes are tested:\n",
      "2047\n"
     ]
    },
    {
     "data": {
      "image/png": "[encoded data removed]",
      "text/plain": [
       "<Figure size 288x288 with 1 Axes>"
      ]
     },
     "metadata": {
      "needs_background": "light"
     },
     "output_type": "display_data"
    },
    {
     "name": "stdout",
     "output_type": "stream",
     "text": [
      "-------------------------------------------\n",
      "By using Astar method with Manhattan Distance :h(i,j)=|i-goali|+|j-goalj|:\n",
      "-------------------------------------------\n",
      "For maze 0 :\n",
      "The length of shortest path is:\n",
      "130.0\n",
      "Nodes are tested:\n",
      "838\n"
     ]
    },
    {
     "data": {
      "image/png": "[encoded data removed]",
      "text/plain": [
       "<Figure size 288x288 with 1 Axes>"
      ]
     },
     "metadata": {
      "needs_background": "light"
     },
     "output_type": "display_data"
    },
    {
     "name": "stdout",
     "output_type": "stream",
     "text": [
      "For maze 1 :\n",
      "The length of shortest path is:\n",
      "98.0\n",
      "Nodes are tested:\n",
      "98\n"
     ]
    },
    {
     "data": {
      "image/png": "[encoded data removed]",
      "text/plain": [
       "<Figure size 288x288 with 1 Axes>"
      ]
     },
     "metadata": {
      "needs_background": "light"
     },
     "output_type": "display_data"
    },
    {
     "name": "stdout",
     "output_type": "stream",
     "text": [
      "For maze 2 :\n",
      "The length of shortest path is:\n",
      "140.0\n",
      "Nodes are tested:\n",
      "1315\n"
     ]
    },
    {
     "data": {
      "image/png": "[encoded data removed]",
      "text/plain": [
       "<Figure size 288x288 with 1 Axes>"
      ]
     },
     "metadata": {
      "needs_background": "light"
     },
     "output_type": "display_data"
    },
    {
     "name": "stdout",
     "output_type": "stream",
     "text": [
      "-------------------------------------------\n",
      "By using Astar method with Euclidean Distance :h(i,j)=sqrt((i-goali)^2+(j-goalj)^2):\n",
      "-------------------------------------------\n",
      "For maze 0 :\n",
      "The length of shortest path is:\n",
      "130.0\n",
      "Nodes are tested:\n",
      "1985\n"
     ]
    },
    {
     "data": {
      "image/png": "[encoded data removed]",
      "text/plain": [
       "<Figure size 288x288 with 1 Axes>"
      ]
     },
     "metadata": {
      "needs_background": "light"
     },
     "output_type": "display_data"
    },
    {
     "name": "stdout",
     "output_type": "stream",
     "text": [
      "For maze 1 :\n",
      "The length of shortest path is:\n",
      "98.0\n",
      "Nodes are tested:\n",
      "737\n"
     ]
    },
    {
     "data": {
      "image/png": "[encoded data removed]",
      "text/plain": [
       "<Figure size 288x288 with 1 Axes>"
      ]
     },
     "metadata": {
      "needs_background": "light"
     },
     "output_type": "display_data"
    },
    {
     "name": "stdout",
     "output_type": "stream",
     "text": [
      "For maze 2 :\n",
      "The length of shortest path is:\n",
      "140.0\n",
      "Nodes are tested:\n",
      "1973\n"
     ]
    },
    {
     "data": {
      "image/png": "[encoded data removed]",
      "text/plain": [
       "<Figure size 288x288 with 1 Axes>"
      ]
     },
     "metadata": {
      "needs_background": "light"
     },
     "output_type": "display_data"
    }
   ],
   "source": [
    "import numpy as np\n",
    "import matplotlib.pyplot as plt\n",
    "import matplotlib as mp\n",
    "np.set_printoptions(precision=5, linewidth=120, suppress=True)\n",
    "import bisect\n",
    "import os\n",
    "\n",
    "data_root='../data/HW1-2'\n",
    "files=os.listdir(data_root)\n",
    "maze_list = [np.load(os.path.join(data_root,file)) for file in files]\n",
    "Heuristic={'None':{'funcs':No_heuristic,'equa':'h(i,j)=0'},\n",
    "           'Manhattan Distance':{'funcs':Manhattan_Distance,'equa':'h(i,j)=|i-goali|+|j-goalj|'},\n",
    "           'Euclidean Distance':{'funcs':Euclidean_Distance,'equa':'h(i,j)=sqrt((i-goali)^2+(j-goalj)^2)'},}\n",
    "module=Astar(maze_list,Heuristic)\n",
    "module.forward()"
   ]
  }
 ],
 "metadata": {
  "kernelspec": {
   "display_name": "Python 3",
   "language": "python",
   "name": "python3"
  },
  "language_info": {
   "codemirror_mode": {
    "name": "ipython",
    "version": 3
   },
   "file_extension": ".py",
   "mimetype": "text/x-python",
   "name": "python",
   "nbconvert_exporter": "python",
   "pygments_lexer": "ipython3",
   "version": "3.8.8"
  }
 },
 "nbformat": 4,
 "nbformat_minor": 5
}
